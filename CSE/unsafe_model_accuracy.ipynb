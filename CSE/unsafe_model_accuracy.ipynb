{
 "cells": [
  {
   "cell_type": "code",
   "execution_count": 5,
   "id": "fb3306e6-d6fb-4745-8a54-33994cdda239",
   "metadata": {},
   "outputs": [
    {
     "name": "stderr",
     "output_type": "stream",
     "text": [
      "Testing: 100%|███████████████████████████████████████████████████████████████████████████████████████████████████████████████| 25/25 [00:27<00:00,  1.12s/it]\n"
     ]
    },
    {
     "name": "stdout",
     "output_type": "stream",
     "text": [
      "Accuracy of model ./unsafe_models_CB/best_model.pth on test data: 91.94461925739459\n"
     ]
    },
    {
     "name": "stderr",
     "output_type": "stream",
     "text": [
      "Testing: 100%|█████████████████████████████████████████████████████████████████████████████████████████████████████████████| 272/272 [00:55<00:00,  4.88it/s]\n"
     ]
    },
    {
     "name": "stdout",
     "output_type": "stream",
     "text": [
      "Accuracy of model ./unsafe_models_NSFW/best_model_masked.pth on test data: 97.82183908045977\n"
     ]
    },
    {
     "name": "stderr",
     "output_type": "stream",
     "text": [
      "Testing: 100%|█████████████████████████████████████████████████████████████████████████████████████████████████████████████████| 8/8 [00:07<00:00,  1.05it/s]"
     ]
    },
    {
     "name": "stdout",
     "output_type": "stream",
     "text": [
      "Accuracy of model ./unsafe_models_SH/best_model_masked.pth on test data: 94.14141414141413\n"
     ]
    },
    {
     "name": "stderr",
     "output_type": "stream",
     "text": [
      "\n"
     ]
    }
   ],
   "source": [
    "from sklearn.metrics import accuracy_score\n",
    "from torchvision import models\n",
    "import torch\n",
    "import torch.nn as nn\n",
    "from torchvision.datasets import ImageFolder\n",
    "from torchvision.transforms import ToTensor, transforms, Normalize, InterpolationMode\n",
    "from torch.optim import AdamW\n",
    "from torch.utils.data import DataLoader, random_split\n",
    "from tqdm import tqdm\n",
    "from PIL import Image\n",
    "Image.MAX_IMAGE_PIXELS = None\n",
    "\n",
    "device = 'cuda'\n",
    "\n",
    "class CustomImageFolder(ImageFolder):\n",
    "    def __init__(self, root, transform=None):\n",
    "        super().__init__(root, transform=transform)\n",
    "    \n",
    "    def __getitem__(self, index):\n",
    "        sample, target = super().__getitem__(index)\n",
    "        return sample, target\n",
    "\n",
    "transform = transforms.Compose([\n",
    "    transforms.Lambda(lambda img: img.convert('RGBA') if 'P' in img.getbands() else img), # Convert Palette images to RGBA\n",
    "    transforms.Lambda(lambda img: img.convert('RGB')), # Convert RGBA to RGB\n",
    "    transforms.Resize(232, interpolation=InterpolationMode.BILINEAR), # Resize to 232\n",
    "    transforms.CenterCrop(224), # Center crop to 224\n",
    "    transforms.ToTensor(),\n",
    "    transforms.Normalize(mean=[0.485, 0.456, 0.406], std=[0.229, 0.224, 0.225]), # Normalize\n",
    "])\n",
    "\n",
    "def test_model(model, test_loader):\n",
    "    model.eval()  # Set the model to evaluation mode\n",
    "\n",
    "    correct_predictions = 0\n",
    "    total_predictions = 0\n",
    "\n",
    "    with torch.no_grad():  # Disable gradient computation during evaluation\n",
    "        for inputs, labels in tqdm(test_loader, desc=\"Testing\"):\n",
    "            inputs = inputs.to(device)\n",
    "            labels = labels.to(device)\n",
    "\n",
    "            outputs = model(inputs)\n",
    "            _, predicted = torch.max(outputs, 1)\n",
    "            total_predictions += labels.size(0)\n",
    "            correct_predictions += (predicted == labels).sum().item()\n",
    "\n",
    "    accuracy = (correct_predictions / total_predictions) * 100\n",
    "    return accuracy\n",
    "\n",
    "# model_paths = ['./unsafe_models_CB/best_model.pth', './unsafe_models_NSFW/best_model.pth', './unsafe_models_SH/best_model.pth']\n",
    "# test_paths = ['/workspace/adv_robustness/CSE/datasets/cyberbullying/',\n",
    "#               '/workspace/adv_robustness/CSE/datasets/nsfw/',\n",
    "#               '/workspace/adv_robustness/CSE/datasets/self_harm/']\n",
    "\n",
    "model_paths = ['./unsafe_models_CB/best_model.pth', './unsafe_models_NSFW/best_model_masked.pth', './unsafe_models_SH/best_model_masked.pth']\n",
    "test_paths = ['/workspace/adv_robustness/CSE/datasets/cyberbullying/',\n",
    "              '/workspace/adv_robustness/CSE/datasets/nsfw/',\n",
    "              '/workspace/adv_robustness/CSE/datasets/self_harm/']\n",
    "\n",
    "\n",
    "for model_path, test_path in zip(model_paths, test_paths):\n",
    "    # Load the model\n",
    "    model = models.resnet50()\n",
    "    model.fc = nn.Linear(model.fc.in_features, 2)\n",
    "    model.load_state_dict(torch.load(model_path))\n",
    "    model = model.to(device)\n",
    "\n",
    "    # Load all data\n",
    "    dataset = CustomImageFolder(root=test_path, transform=transform)\n",
    "\n",
    "    # Determine lengths of splits\n",
    "    total_size = len(dataset)\n",
    "    train_size = int(total_size * 0.8)\n",
    "    valid_size = int(total_size * 0.1)\n",
    "    test_size = total_size - train_size - valid_size\n",
    "\n",
    "    # Set the seed for reproducibility\n",
    "    torch.manual_seed(0)\n",
    "\n",
    "    # Create the data sets\n",
    "    _, _, test_dataset = random_split(dataset, [train_size, valid_size, test_size])\n",
    "    \n",
    "    test_loader = DataLoader(test_dataset, batch_size=64, shuffle=False)\n",
    "\n",
    "    # Test the model\n",
    "    accuracy = test_model(model, test_loader)\n",
    "    print(f'Accuracy of model {model_path} on test data: {accuracy}')\n",
    "    \n",
    "    \n",
    "# Accuracy of model ./unsafe_models_CB/best_model.pth on test data: 0.9194461925739459\n",
    "# Accuracy of model ./unsafe_models_NSFW/best_model.pth on test data: 0.9889080459770115\n",
    "# Accuracy of model ./unsafe_models_SH/best_model.pth on test data: 0.9757575757575757\n"
   ]
  },
  {
   "cell_type": "code",
   "execution_count": null,
   "id": "ed25aa56-54cb-4c2e-9dda-b561fe98a332",
   "metadata": {},
   "outputs": [],
   "source": []
  }
 ],
 "metadata": {
  "kernelspec": {
   "display_name": "env",
   "language": "python",
   "name": "env"
  },
  "language_info": {
   "codemirror_mode": {
    "name": "ipython",
    "version": 3
   },
   "file_extension": ".py",
   "mimetype": "text/x-python",
   "name": "python",
   "nbconvert_exporter": "python",
   "pygments_lexer": "ipython3",
   "version": "3.8.17"
  }
 },
 "nbformat": 4,
 "nbformat_minor": 5
}
